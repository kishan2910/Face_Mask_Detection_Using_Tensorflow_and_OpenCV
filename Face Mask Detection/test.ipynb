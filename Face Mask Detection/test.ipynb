{
 "cells": [
  {
   "cell_type": "code",
   "execution_count": 1,
   "id": "b06e9957",
   "metadata": {},
   "outputs": [],
   "source": [
    "import warnings\n",
    "warnings.filterwarnings('ignore')\n",
    "import numpy as np\n",
    "import cv2\n",
    "import pickle\n",
    "from keras.models import load_model"
   ]
  },
  {
   "cell_type": "code",
   "execution_count": 2,
   "id": "c8be0dba",
   "metadata": {},
   "outputs": [],
   "source": [
    "facedetect = cv2.CascadeClassifier('haarcascade_frontalface_default.xml')\n",
    "threshold = 0.90\n",
    "cap = cv2.VideoCapture(0)\n",
    "cap.set(3, 1280)\n",
    "cap.set(4,720)\n",
    "font = cv2.FONT_HERSHEY_COMPLEX\n",
    "model = load_model('MyTrainingModel.h5')"
   ]
  },
  {
   "cell_type": "code",
   "execution_count": 3,
   "id": "00550785",
   "metadata": {},
   "outputs": [],
   "source": [
    "def preprocessing(img):\n",
    "    img = img.astype('uint8')\n",
    "    img = cv2.cvtColor(img, cv2.COLOR_BGR2GRAY)\n",
    "    img = cv2.equalizeHist(img)\n",
    "    img = img/255\n",
    "    return img\n",
    "\n",
    "def get_className(classNo):\n",
    "    if classNo==0:\n",
    "        return 'Why are you looking so ugly even wearing a Mask'\n",
    "    elif classNo==1:\n",
    "        return \"Wear a Mask you Fucking Asshole\"\n",
    "    \n",
    "while True:\n",
    "    sucess, imgOriginal = cap.read()\n",
    "    faces = facedetect.detectMultiScale(imgOriginal,1.3,5)\n",
    "    for x,y,w,h in faces:\n",
    "        crop_image = imgOriginal[y:y+h,x:x+h]\n",
    "        img = cv2.resize(crop_image, (32,32))\n",
    "        img = preprocessing(img)\n",
    "        img = img.reshape(1,32,32,1)\n",
    "        \n",
    "        prediction = model.predict(img)\n",
    "        classIndex = np.argmax(model.predict(img),axis=-1)\n",
    "        probabilityValue=np.amax(prediction)\n",
    "        if probabilityValue>threshold:\n",
    "            if classIndex==0:\n",
    "                cv2.rectangle(imgOriginal,(x,y),(x+w,y+h),(0,255,0),2)\n",
    "                cv2.rectangle(imgOriginal,(x,y-40),(x+w,y),(0,255,0),-2)\n",
    "                cv2.putText(imgOriginal, str(get_className(classIndex)),(x,y-10),font,0.75,(255,255,255),1,cv2.LINE_AA)\n",
    "                \n",
    "            elif classIndex==1:\n",
    "                cv2.rectangle(imgOriginal,(x,y),(x+w,y+h),(50,50,255),2)\n",
    "                cv2.rectangle(imgOriginal,(x,y-40),(x+w,y),(50,50,255),-2)\n",
    "                cv2.putText(imgOriginal, str(get_className(classIndex)),(x,y-10),font,0.75,(255,255,255),1,cv2.LINE_AA)\n",
    "\n",
    "        \n",
    "    cv2.imshow(\"result\", imgOriginal)\n",
    "    k = cv2.waitKey(1)\n",
    "    if k==ord('q'):\n",
    "        break\n",
    "        \n",
    "cap.release()\n",
    "cv2.destroyAllWindows()\n",
    "   "
   ]
  },
  {
   "cell_type": "code",
   "execution_count": null,
   "id": "40847ee6",
   "metadata": {},
   "outputs": [],
   "source": []
  }
 ],
 "metadata": {
  "kernelspec": {
   "display_name": "Python 3 (ipykernel)",
   "language": "python",
   "name": "python3"
  },
  "language_info": {
   "codemirror_mode": {
    "name": "ipython",
    "version": 3
   },
   "file_extension": ".py",
   "mimetype": "text/x-python",
   "name": "python",
   "nbconvert_exporter": "python",
   "pygments_lexer": "ipython3",
   "version": "3.10.0"
  }
 },
 "nbformat": 4,
 "nbformat_minor": 5
}
